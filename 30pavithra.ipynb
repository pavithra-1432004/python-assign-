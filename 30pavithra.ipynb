{
  "nbformat": 4,
  "nbformat_minor": 0,
  "metadata": {
    "colab": {
      "provenance": []
    },
    "kernelspec": {
      "name": "python3",
      "display_name": "Python 3"
    },
    "language_info": {
      "name": "python"
    }
  },
  "cells": [
    {
      "cell_type": "code",
      "execution_count": null,
      "metadata": {
        "id": "2dT78Tk-u9KL"
      },
      "outputs": [],
      "source": [
        "1. Write a program to remove characters from a string starting from zero up to n and return a"
      ]
    },
    {
      "cell_type": "code",
      "source": [
        "ini_string1 = 'python_programming'\n",
        "n = 5\n",
        "print(\"Initial String\", ini_string1)\n",
        "res = ''\n",
        "for i in range(0, len(ini_string1)):\n",
        "\tif i >= n:\n",
        "\t\tres = res + ini_string1[i]\n",
        "print(\"Resultant String\", res)"
      ],
      "metadata": {
        "colab": {
          "base_uri": "https://localhost:8080/"
        },
        "id": "3_iNl20KvBnx",
        "outputId": "3ff07cc3-9320-4493-edc1-5213f940ed55"
      },
      "execution_count": null,
      "outputs": [
        {
          "output_type": "stream",
          "name": "stdout",
          "text": [
            "Initial String python_programming\n",
            "Resultant String n_programming\n"
          ]
        }
      ]
    },
    {
      "cell_type": "code",
      "source": [
        "print(\"Printing current and previous number and their sum in a range(10)\")\n",
        "previous_num = 0\n",
        "for i in range(1, 11):\n",
        "    x_sum = previous_num + i\n",
        "    print(\"Current Number\", i, \"Previous Number \", previous_num, \" Sum: \", x_sum)\n",
        "    previous_num = i"
      ],
      "metadata": {
        "colab": {
          "base_uri": "https://localhost:8080/"
        },
        "id": "95Si-Lalwjwj",
        "outputId": "217ee0d6-52f1-49d8-a1ac-2a2ba18ea24c"
      },
      "execution_count": null,
      "outputs": [
        {
          "output_type": "stream",
          "name": "stdout",
          "text": [
            "Printing current and previous number and their sum in a range(10)\n",
            "Current Number 1 Previous Number  0  Sum:  1\n",
            "Current Number 2 Previous Number  1  Sum:  3\n",
            "Current Number 3 Previous Number  2  Sum:  5\n",
            "Current Number 4 Previous Number  3  Sum:  7\n",
            "Current Number 5 Previous Number  4  Sum:  9\n",
            "Current Number 6 Previous Number  5  Sum:  11\n",
            "Current Number 7 Previous Number  6  Sum:  13\n",
            "Current Number 8 Previous Number  7  Sum:  15\n",
            "Current Number 9 Previous Number  8  Sum:  17\n",
            "Current Number 10 Previous Number  9  Sum:  19\n"
          ]
        }
      ]
    },
    {
      "cell_type": "markdown",
      "source": [],
      "metadata": {
        "id": "hN67QiSzw0ft"
      }
    },
    {
      "cell_type": "markdown",
      "source": [
        "write a program to iterate the first 10 numbers and in sum of current and a previous number."
      ],
      "metadata": {
        "id": "W0ZG0Qsiwkiq"
      }
    },
    {
      "cell_type": "markdown",
      "source": [
        "Accept a string from the user and display the character that are present at an even index number."
      ],
      "metadata": {
        "id": "wXwxRJiYw5ia"
      }
    },
    {
      "cell_type": "code",
      "source": [
        "word = input('Enter word ')\n",
        "print(\"Original String:\", word)\n",
        "size = len(word)\n",
        "print(\"Printing only even index chars\")\n",
        "for i in range(0, size - 1, 2):\n",
        "    print(\"index[\", i, \"]\", word[i])"
      ],
      "metadata": {
        "colab": {
          "base_uri": "https://localhost:8080/"
        },
        "id": "uUvDCc_ew9nZ",
        "outputId": "5810cd40-0fc2-426d-8a53-06cfec491c42"
      },
      "execution_count": null,
      "outputs": [
        {
          "output_type": "stream",
          "name": "stdout",
          "text": [
            "Enter word programming in python\n",
            "Original String: programming in python\n",
            "Printing only even index chars\n",
            "index[ 0 ] p\n",
            "index[ 2 ] o\n",
            "index[ 4 ] r\n",
            "index[ 6 ] m\n",
            "index[ 8 ] i\n",
            "index[ 10 ] g\n",
            "index[ 12 ] i\n",
            "index[ 14 ]  \n",
            "index[ 16 ] y\n",
            "index[ 18 ] h\n"
          ]
        }
      ]
    },
    {
      "cell_type": "markdown",
      "source": [
        "Write a program to find how many times substring “is” appears in the given string."
      ],
      "metadata": {
        "id": "7gP69_elxK2T"
      }
    },
    {
      "cell_type": "code",
      "source": [
        "str_x = \"python is a high level language.it is dynamically typed.\"\n",
        "cnt = str_x.count(\"is\")\n",
        "print(cnt)"
      ],
      "metadata": {
        "colab": {
          "base_uri": "https://localhost:8080/"
        },
        "id": "XLjlhPnqxOpF",
        "outputId": "c617a8eb-b56d-46e2-a82a-758416fd5fc3"
      },
      "execution_count": null,
      "outputs": [
        {
          "output_type": "stream",
          "name": "stdout",
          "text": [
            "2\n"
          ]
        }
      ]
    },
    {
      "cell_type": "markdown",
      "source": [
        "Calculate income tax for the given income by adhering to the below rules."
      ],
      "metadata": {
        "id": "zSLyN7O2xTBE"
      }
    },
    {
      "cell_type": "code",
      "source": [
        "income = 45000\n",
        "tax_payable = 0\n",
        "print(\"Given income\", income)\n",
        "if income <= 10000:\n",
        "    tax_payable = 0\n",
        "elif income <= 20000:\n",
        "    # no tax on first 10,000\n",
        "    x = income - 10000\n",
        "    # 10% tax\n",
        "    tax_payable = x * 10 / 100\n",
        "else:\n",
        "    # first 10,000\n",
        "    tax_payable = 0\n",
        "\n",
        "    # next 10,000 10% tax\n",
        "    tax_payable = 10000 * 10 / 100\n",
        "\n",
        "    # remaining 20%tax\n",
        "    tax_payable += (income - 20000) * 20 / 100\n",
        "\n",
        "print(\"Total tax to pay is\", tax_payable)"
      ],
      "metadata": {
        "colab": {
          "base_uri": "https://localhost:8080/"
        },
        "id": "JOIlig3IxWy9",
        "outputId": "262b2319-d622-426d-ab82-f6add81cfac0"
      },
      "execution_count": null,
      "outputs": [
        {
          "output_type": "stream",
          "name": "stdout",
          "text": [
            "Given income 45000\n",
            "Total tax to pay is 6000.0\n"
          ]
        }
      ]
    },
    {
      "cell_type": "markdown",
      "source": [
        "Accept numbers from a user."
      ],
      "metadata": {
        "id": "mitPZeXhxbi_"
      }
    },
    {
      "cell_type": "code",
      "source": [
        "num1 = int(input(\"Enter first number \"))\n",
        "num2 = int(input(\"Enter second number \"))\n",
        "res = num1 * num2\n",
        "print(\"Multiplication is\", res)"
      ],
      "metadata": {
        "colab": {
          "base_uri": "https://localhost:8080/"
        },
        "id": "6TyR5NX1xfOF",
        "outputId": "d2a6419b-86f1-4bb5-d1e0-24de074b02c4"
      },
      "execution_count": null,
      "outputs": [
        {
          "output_type": "stream",
          "name": "stdout",
          "text": [
            "Enter first number 10\n",
            "Enter second number 20\n",
            "Multiplication is 200\n"
          ]
        }
      ]
    },
    {
      "cell_type": "markdown",
      "source": [
        "Display three string “Name”, “Is”, “James” as “NameIsJames”"
      ],
      "metadata": {
        "id": "3O98dCMBxlU0"
      }
    },
    {
      "cell_type": "code",
      "source": [
        "print('My', 'Name', 'Is', 'James', sep='**')"
      ],
      "metadata": {
        "colab": {
          "base_uri": "https://localhost:8080/"
        },
        "id": "7oFAMTfdxpdQ",
        "outputId": "911f07ef-5a0b-43ff-dd0d-87412a6e0055"
      },
      "execution_count": null,
      "outputs": [
        {
          "output_type": "stream",
          "name": "stdout",
          "text": [
            "My**Name**Is**James\n"
          ]
        }
      ]
    },
    {
      "cell_type": "markdown",
      "source": [
        "12. Convert Decimal number to octal and Display float number with 2 decimal places"
      ],
      "metadata": {
        "id": "NC4FcNdmxtyF"
      }
    },
    {
      "cell_type": "code",
      "source": [
        "num = 14\n",
        "print(\"decimal to octal:\"'%o' % num)\n",
        "num = 4569.092344\n",
        "print(\"flot no with 2 decimal no:\"'%.2f' % num)"
      ],
      "metadata": {
        "colab": {
          "base_uri": "https://localhost:8080/"
        },
        "id": "RqXbF8s_xxL3",
        "outputId": "a47cdf5d-bac5-4b2c-813d-4a5a1fd92f35"
      },
      "execution_count": null,
      "outputs": [
        {
          "output_type": "stream",
          "name": "stdout",
          "text": [
            "decimal to octal:16\n",
            "flot no with 2 decimal no:4569.09\n"
          ]
        }
      ]
    },
    {
      "cell_type": "markdown",
      "source": [
        "Accept a list of 5 float numbers as an input from the user"
      ],
      "metadata": {
        "id": "cMlakjOox1On"
      }
    },
    {
      "cell_type": "code",
      "source": [
        "numbers = []\n",
        "for i in range(0, 5):\n",
        "    print(\"Enter number at location\", i, \":\")\n",
        "    item = float(input())\n",
        "    numbers.append(item)\n",
        "print(\"User List:\", numbers)"
      ],
      "metadata": {
        "colab": {
          "base_uri": "https://localhost:8080/"
        },
        "id": "PUp-CmaKx4ud",
        "outputId": "fe4e210a-5fbc-427e-c13e-d78bad727fc5"
      },
      "execution_count": null,
      "outputs": [
        {
          "output_type": "stream",
          "name": "stdout",
          "text": [
            "Enter number at location 0 :\n",
            "3.3\n",
            "Enter number at location 1 :\n",
            "1.5\n",
            "Enter number at location 2 :\n",
            "5.6\n",
            "Enter number at location 3 :\n",
            "8.0\n",
            "Enter number at location 4 :\n",
            "7.0\n",
            "User List: [3.3, 1.5, 5.6, 8.0, 7.0]\n"
          ]
        }
      ]
    },
    {
      "cell_type": "markdown",
      "source": [
        "14. Accept any three string from one input() call"
      ],
      "metadata": {
        "id": "dEpD08KbyFGd"
      }
    },
    {
      "cell_type": "code",
      "source": [
        "str1, str2, str3 = input(\"Enter three string\").split()\n",
        "print('Name1:', str1)\n",
        "print('Name2:', str2)\n",
        "print('Name3:', str3)"
      ],
      "metadata": {
        "colab": {
          "base_uri": "https://localhost:8080/"
        },
        "id": "zay69TZlyIwE",
        "outputId": "7e90b8a3-fb2d-43b7-df10-2a8f4f90f13b"
      },
      "execution_count": null,
      "outputs": [
        {
          "output_type": "stream",
          "name": "stdout",
          "text": [
            "Enter three stringpython programming  bca\n",
            "Name1: python\n",
            "Name2: programming\n",
            "Name3: bca\n"
          ]
        }
      ]
    },
    {
      "cell_type": "markdown",
      "source": [
        "15. Format variables using a string.format() method."
      ],
      "metadata": {
        "id": "Jfo8rduWyaOl"
      }
    },
    {
      "cell_type": "code",
      "source": [
        "quantity = 500\n",
        "totalMoney = 250\n",
        "price = 35\n",
        "statement1 = \"I have {1} rupees so I can buy {0} chocholate for {2:.2f} dollars.\"\n",
        "print(statement1.format(quantity, totalMoney, price))"
      ],
      "metadata": {
        "colab": {
          "base_uri": "https://localhost:8080/"
        },
        "id": "1QpmF8RJyeB7",
        "outputId": "0f6f123d-6307-46e0-d52d-da4a6ed5a4a6"
      },
      "execution_count": null,
      "outputs": [
        {
          "output_type": "stream",
          "name": "stdout",
          "text": [
            "I have 250 rupees so I can buy 500 chocholate for 35.00 dollars.\n"
          ]
        }
      ]
    },
    {
      "cell_type": "markdown",
      "source": [
        "17. Display numbers from a list using loop."
      ],
      "metadata": {
        "id": "yUsOU4-aywiW"
      }
    },
    {
      "cell_type": "code",
      "source": [
        "thislist = [\"apple\", \"banana\", \"cherry\"]\n",
        "for i in range(len(thislist)):\n",
        "  print(thislist[i])"
      ],
      "metadata": {
        "colab": {
          "base_uri": "https://localhost:8080/"
        },
        "id": "7d79p7KFy0jr",
        "outputId": "61787553-9dd6-4ca2-f297-79d38e36d4db"
      },
      "execution_count": null,
      "outputs": [
        {
          "output_type": "stream",
          "name": "stdout",
          "text": [
            "apple\n",
            "banana\n",
            "cherry\n"
          ]
        }
      ]
    },
    {
      "cell_type": "markdown",
      "source": [
        "18.Print list in reverse order using a loop"
      ],
      "metadata": {
        "id": "jFJGdu2Ly4pN"
      }
    },
    {
      "cell_type": "code",
      "source": [
        "original_list = [12,52,73,41,50]\n",
        "print(\"List before reverse : \",original_list)\n",
        "original_list.reverse()\n",
        "print(\"List after reverse : \",original_list)"
      ],
      "metadata": {
        "colab": {
          "base_uri": "https://localhost:8080/"
        },
        "id": "PlP1CRUhy8B4",
        "outputId": "2a38d1d7-4186-48b0-e42c-c13ceb604802"
      },
      "execution_count": null,
      "outputs": [
        {
          "output_type": "stream",
          "name": "stdout",
          "text": [
            "List before reverse :  [12, 52, 73, 41, 50]\n",
            "List after reverse :  [50, 41, 73, 52, 12]\n"
          ]
        }
      ]
    },
    {
      "cell_type": "markdown",
      "source": [
        "19. Count the total number of digits in a number"
      ],
      "metadata": {
        "id": "f16cUcF9zAWC"
      }
    },
    {
      "cell_type": "code",
      "source": [
        "num = 7586934561122\n",
        "count = 0\n",
        "while num != 0:\n",
        "    num = num // 10\n",
        "    count = count + 1\n",
        "print(\"Total digits are:\", count)"
      ],
      "metadata": {
        "colab": {
          "base_uri": "https://localhost:8080/"
        },
        "id": "MxuxDsqEzDzy",
        "outputId": "4a882c4b-be24-4855-87b7-347480010b39"
      },
      "execution_count": null,
      "outputs": [
        {
          "output_type": "stream",
          "name": "stdout",
          "text": [
            "Total digits are: 13\n"
          ]
        }
      ]
    },
    {
      "cell_type": "markdown",
      "source": [
        "20. Display numbers from -10 to -1 using for loop"
      ],
      "metadata": {
        "id": "MImbAIDSzHsD"
      }
    },
    {
      "cell_type": "code",
      "source": [
        "for num in range(-10, 0, 1):\n",
        "    print(num)"
      ],
      "metadata": {
        "colab": {
          "base_uri": "https://localhost:8080/"
        },
        "id": "KhxPvIxVzK0p",
        "outputId": "c9216a9f-e5f6-41f7-ffbe-4d18798406b4"
      },
      "execution_count": null,
      "outputs": [
        {
          "output_type": "stream",
          "name": "stdout",
          "text": [
            "-10\n",
            "-9\n",
            "-8\n",
            "-7\n",
            "-6\n",
            "-5\n",
            "-4\n",
            "-3\n",
            "-2\n",
            "-1\n"
          ]
        }
      ]
    },
    {
      "cell_type": "markdown",
      "source": [
        "21. Use else block to display a message “Done” after successful execution of for loop"
      ],
      "metadata": {
        "id": "ihqdYZelzOhU"
      }
    },
    {
      "cell_type": "code",
      "source": [
        "for i in range(5):\n",
        "    print(i)\n",
        "else:\n",
        "    print(\"Done!\")\n"
      ],
      "metadata": {
        "colab": {
          "base_uri": "https://localhost:8080/"
        },
        "id": "3BV5WQlfzRub",
        "outputId": "531ce7c3-5faa-47e7-ac0e-c6611e7b4400"
      },
      "execution_count": null,
      "outputs": [
        {
          "output_type": "stream",
          "name": "stdout",
          "text": [
            "0\n",
            "1\n",
            "2\n",
            "3\n",
            "4\n",
            "Done!\n"
          ]
        }
      ]
    },
    {
      "cell_type": "markdown",
      "source": [
        "22. Use a loop to display elements from a given list present at odd index positions"
      ],
      "metadata": {
        "id": "KSXv-XUMzWG2"
      }
    },
    {
      "cell_type": "code",
      "source": [
        "arr = [9, 10, 12, 47, 55, 334,93,100];\n",
        "print(\"Elements of given array present on odd position: \");\n",
        "for i in range(0, len(arr), 2):\n",
        "    print(arr[i]);"
      ],
      "metadata": {
        "colab": {
          "base_uri": "https://localhost:8080/"
        },
        "id": "mHXcFkSxzY4O",
        "outputId": "be838bfe-70d0-479b-afc1-48bd48ef61e4"
      },
      "execution_count": null,
      "outputs": [
        {
          "output_type": "stream",
          "name": "stdout",
          "text": [
            "Elements of given array present on odd position: \n",
            "9\n",
            "12\n",
            "55\n",
            "93\n"
          ]
        }
      ]
    },
    {
      "cell_type": "markdown",
      "source": [
        "23. Append new string in the middle of a given string"
      ],
      "metadata": {
        "id": "SPSVz604zcCA"
      }
    },
    {
      "cell_type": "code",
      "source": [
        "a=input()\n",
        "b=input()\n",
        "mid=len(a)//2\n",
        "x=a[:mid]+b+a[mid:]\n",
        "print(x)"
      ],
      "metadata": {
        "colab": {
          "base_uri": "https://localhost:8080/"
        },
        "id": "UFDiISkNzfF4",
        "outputId": "8bb353fd-0fbd-4e47-85bf-d8aa6d8b7ee5"
      },
      "execution_count": null,
      "outputs": [
        {
          "output_type": "stream",
          "name": "stdout",
          "text": [
            "python\n",
            "programming\n",
            "pytprogramminghon\n"
          ]
        }
      ]
    },
    {
      "cell_type": "markdown",
      "source": [
        "24. Arrange string characters such that lowercase letters should come first"
      ],
      "metadata": {
        "id": "cju_dW28zqZ8"
      }
    },
    {
      "cell_type": "code",
      "source": [
        "a=input()\n",
        "s=\"\".join(sorted(a))\n",
        "print(s[::-1])"
      ],
      "metadata": {
        "colab": {
          "base_uri": "https://localhost:8080/"
        },
        "id": "vBNF0Wg5zumg",
        "outputId": "a94c469a-a4f0-49d9-dd5e-d488b19ab150"
      },
      "execution_count": null,
      "outputs": [
        {
          "output_type": "stream",
          "name": "stdout",
          "text": [
            "python\n",
            "ytponh\n"
          ]
        }
      ]
    },
    {
      "cell_type": "markdown",
      "source": [
        "25. Count all letters, digits, and special symbols from a given string"
      ],
      "metadata": {
        "id": "fsBXy4biz2_C"
      }
    },
    {
      "cell_type": "code",
      "source": [
        "string = input(\"Enter a String : \")\n",
        "alphabets=0\n",
        "digits=0\n",
        "specialChars=0\n",
        "for i in string:\n",
        "    \t\tif i.isalpha():\n",
        "       \t\t\t alphabets+=1\n",
        "    \t\telif i.isdigit():\n",
        "        \t\t\tdigits+=1\n",
        "        \t\t\tspecialChars+=1\n",
        "print(\"alphabets =\",alphabets,\"digits =\",digits,\"specialChars =\",specialChars)"
      ],
      "metadata": {
        "colab": {
          "base_uri": "https://localhost:8080/"
        },
        "id": "SgeFTfts0jHs",
        "outputId": "8188d6d9-480e-491a-99ab-d17fafb8996a"
      },
      "execution_count": null,
      "outputs": [
        {
          "output_type": "stream",
          "name": "stdout",
          "text": [
            "Enter a String : python programming\n",
            "alphabets = 17 digits = 0 specialChars = 0\n"
          ]
        }
      ]
    },
    {
      "cell_type": "markdown",
      "source": [
        "26. Find all occurrences of a substring in a given string by ignoring the case"
      ],
      "metadata": {
        "id": "kY7IQONp0rmP"
      }
    },
    {
      "cell_type": "code",
      "source": [
        "str1 = \"Welcome to USA. usa awesome, isn't it?\"\n",
        "sub_string = \"USA\"\n",
        "temp_str = str1.lower()\n",
        "count = temp_str.count(sub_string.lower())\n",
        "print(\"The USA count is:\", count)"
      ],
      "metadata": {
        "colab": {
          "base_uri": "https://localhost:8080/"
        },
        "id": "sTpLp3eh0uw1",
        "outputId": "9cd76e7f-0fc7-449b-dcfb-ee0ec3d708aa"
      },
      "execution_count": null,
      "outputs": [
        {
          "output_type": "stream",
          "name": "stdout",
          "text": [
            "The USA count is: 2\n"
          ]
        }
      ]
    },
    {
      "cell_type": "markdown",
      "source": [
        "27. Write a program to count occurrences of all characters within a string"
      ],
      "metadata": {
        "id": "zGtkUmyK0yih"
      }
    },
    {
      "cell_type": "code",
      "source": [
        "str1 = \"renugadevi\"\n",
        "char_dict = dict()\n",
        "for char in str1:\n",
        "    count = str1.count(char)\n",
        "    char_dict[char] = count\n",
        "print('Result:', char_dict)"
      ],
      "metadata": {
        "colab": {
          "base_uri": "https://localhost:8080/"
        },
        "id": "oCJnJC64012B",
        "outputId": "d3c0fd59-3332-40c1-d280-6087e885195d"
      },
      "execution_count": null,
      "outputs": [
        {
          "output_type": "stream",
          "name": "stdout",
          "text": [
            "Result: {'r': 1, 'e': 2, 'n': 1, 'u': 1, 'g': 1, 'a': 1, 'd': 1, 'v': 1, 'i': 1}\n"
          ]
        }
      ]
    },
    {
      "cell_type": "markdown",
      "source": [
        "28. Reverse a list in Python"
      ],
      "metadata": {
        "id": "gBoAHXc008HY"
      }
    },
    {
      "cell_type": "code",
      "source": [
        "list1 = [156, 250, 360, 490, 600]\n",
        "list1.reverse()\n",
        "print(list1)"
      ],
      "metadata": {
        "colab": {
          "base_uri": "https://localhost:8080/"
        },
        "id": "UEMwPMRN0_F9",
        "outputId": "f0064f74-68f9-4193-a442-5ef4c3af538c"
      },
      "execution_count": null,
      "outputs": [
        {
          "output_type": "stream",
          "name": "stdout",
          "text": [
            "[600, 490, 360, 250, 156]\n"
          ]
        }
      ]
    },
    {
      "cell_type": "markdown",
      "source": [
        "29. Concatenate two lists index-wise\n"
      ],
      "metadata": {
        "id": "N5xiH-Ps1FGg"
      }
    },
    {
      "cell_type": "code",
      "source": [
        "list1 = [\"pyt\", \"un\", \"on\"]\n",
        "list2 = [\"hon\", \"it\", \"e\"]\n",
        "list3 = [i + j for i, j in zip(list1, list2)]\n",
        "print(list3)"
      ],
      "metadata": {
        "colab": {
          "base_uri": "https://localhost:8080/"
        },
        "id": "uYNzvWEo1JoT",
        "outputId": "56e39fc9-91b3-41a2-cdd3-63a27a11b343"
      },
      "execution_count": null,
      "outputs": [
        {
          "output_type": "stream",
          "name": "stdout",
          "text": [
            "['python', 'unit', 'one']\n"
          ]
        }
      ]
    },
    {
      "cell_type": "markdown",
      "source": [
        "30. Turn every item of a list into its square"
      ],
      "metadata": {
        "id": "63RbbTi91NP2"
      }
    },
    {
      "cell_type": "code",
      "source": [
        "numbers = [5, 10, 13, 45, 25, 6, 20]\n",
        "res = []\n",
        "for i in numbers:\n",
        "    res.append(i * i)\n",
        "print(res)"
      ],
      "metadata": {
        "colab": {
          "base_uri": "https://localhost:8080/"
        },
        "id": "Uz3FNTtQ1Qgv",
        "outputId": "1b5c9c90-5290-4a60-abda-aafb68169db6"
      },
      "execution_count": null,
      "outputs": [
        {
          "output_type": "stream",
          "name": "stdout",
          "text": [
            "[25, 100, 169, 2025, 625, 36, 400]\n"
          ]
        }
      ]
    },
    {
      "cell_type": "markdown",
      "source": [
        "31. Iterate two lists simultaneously"
      ],
      "metadata": {
        "id": "jorwBZM41T2N"
      }
    },
    {
      "cell_type": "code",
      "source": [
        "list1 = [150, 250, 350, 450]\n",
        "list2 = [1000, 2000, 3000, 400]\n",
        "for x, y in zip(list1, list2[::-1]):\n",
        "    print(x, y)"
      ],
      "metadata": {
        "colab": {
          "base_uri": "https://localhost:8080/"
        },
        "id": "XlLif6z-1Xnp",
        "outputId": "bfd56940-10d7-4dac-d1dd-238de6658444"
      },
      "execution_count": null,
      "outputs": [
        {
          "output_type": "stream",
          "name": "stdout",
          "text": [
            "150 400\n",
            "250 3000\n",
            "350 2000\n",
            "450 1000\n"
          ]
        }
      ]
    },
    {
      "cell_type": "markdown",
      "source": [
        "32. Remove empty strings from the list of strings"
      ],
      "metadata": {
        "id": "4snKmL7G1bTX"
      }
    },
    {
      "cell_type": "code",
      "source": [
        "list1 = [\"programming\", \"\", \"in\", \"python\"]\n",
        "res = list(filter(None, list1))\n",
        "print(res)"
      ],
      "metadata": {
        "colab": {
          "base_uri": "https://localhost:8080/"
        },
        "id": "RI1LSSXC1d4C",
        "outputId": "837de4d1-8f90-4c98-f13e-5328ca6696c8"
      },
      "execution_count": null,
      "outputs": [
        {
          "output_type": "stream",
          "name": "stdout",
          "text": [
            "['programming', 'in', 'python']\n"
          ]
        }
      ]
    },
    {
      "cell_type": "markdown",
      "source": [
        "33. Add new item to list after a specified item"
      ],
      "metadata": {
        "id": "ODVXMlcLGO6m"
      }
    },
    {
      "cell_type": "code",
      "source": [
        "list1 = [10, 20, [300, 400, [5000, 6000], 500], 30, 40]\n",
        "list1[2][2].append(7000)\n",
        "print(list1)"
      ],
      "metadata": {
        "colab": {
          "base_uri": "https://localhost:8080/"
        },
        "id": "gebu8oPrGReu",
        "outputId": "af59dbcb-b987-4a41-80b9-7f76a3942db5"
      },
      "execution_count": null,
      "outputs": [
        {
          "output_type": "stream",
          "name": "stdout",
          "text": [
            "[10, 20, [300, 400, [5000, 6000, 7000], 500], 30, 40]\n"
          ]
        }
      ]
    },
    {
      "cell_type": "markdown",
      "source": [
        "34. Extend nested list by adding the sublist"
      ],
      "metadata": {
        "id": "76o2n_-LGU12"
      }
    },
    {
      "cell_type": "code",
      "source": [],
      "metadata": {
        "id": "HY-qkDvHGXix"
      },
      "execution_count": null,
      "outputs": []
    },
    {
      "cell_type": "code",
      "source": [
        "list1 = [\"a\", \"b\", [\"c\", [\"d\", \"e\", [\"f\", \"g\"], \"k\"], \"l\"], \"m\", \"n\"]\n",
        "sub_list = [\"h\", \"i\", \"j\"]\n",
        "list1[2][1][2].extend(sub_list)\n",
        "print(list1)"
      ],
      "metadata": {
        "colab": {
          "base_uri": "https://localhost:8080/"
        },
        "id": "suKrcIFJGXpp",
        "outputId": "f8106f08-8b68-493d-b1e1-065417e2a4f3"
      },
      "execution_count": null,
      "outputs": [
        {
          "output_type": "stream",
          "name": "stdout",
          "text": [
            "['a', 'b', ['c', ['d', 'e', ['f', 'g', 'h', 'i', 'j'], 'k'], 'l'], 'm', 'n']\n"
          ]
        }
      ]
    },
    {
      "cell_type": "markdown",
      "source": [
        "35. Replace list’s item with new value if found"
      ],
      "metadata": {
        "id": "DNAleBCrGb1V"
      }
    },
    {
      "cell_type": "code",
      "source": [
        "list1 = [5, 10, 15, 20, 25, 50, 20]\n",
        "index = list1.index(20)\n",
        "list1[index] = 200\n",
        "print(list1)"
      ],
      "metadata": {
        "colab": {
          "base_uri": "https://localhost:8080/"
        },
        "id": "j_B7KzKGGgiR",
        "outputId": "c7e40b0d-5d5f-4c54-91e2-1bea6d42dd9d"
      },
      "execution_count": null,
      "outputs": [
        {
          "output_type": "stream",
          "name": "stdout",
          "text": [
            "[5, 10, 15, 200, 25, 50, 20]\n"
          ]
        }
      ]
    },
    {
      "cell_type": "markdown",
      "source": [
        "36. Remove all occurrences of a specific item from a list."
      ],
      "metadata": {
        "id": "gmkoBCRLGkKR"
      }
    },
    {
      "cell_type": "code",
      "source": [
        "list1 = [5, 20, 15, 20, 25, 50, 20]\n",
        "while 20 in list1:\n",
        "    list1.remove(20)\n",
        "print(list1)"
      ],
      "metadata": {
        "id": "DNE7EIJbGoR_"
      },
      "execution_count": null,
      "outputs": []
    },
    {
      "cell_type": "markdown",
      "source": [
        "60. Update the first set with items that don’t exist in the second set\n",
        "set1 = {10, 20, 30}"
      ],
      "metadata": {
        "id": "YRBoQhlEGq-A"
      }
    },
    {
      "cell_type": "code",
      "source": [
        "set1 = {10, 20, 30}\n",
        "set2 = {20, 40, 50}\n",
        "set1.difference_update(set2)\n",
        "print(set1)"
      ],
      "metadata": {
        "colab": {
          "base_uri": "https://localhost:8080/"
        },
        "id": "ekePbO0QGvDP",
        "outputId": "1158a5d7-c0f9-4ba6-8b73-97c26f9de857"
      },
      "execution_count": null,
      "outputs": [
        {
          "output_type": "stream",
          "name": "stdout",
          "text": [
            "{10, 30}\n"
          ]
        }
      ]
    },
    {
      "cell_type": "markdown",
      "source": [
        "61. Remove items from the set at once"
      ],
      "metadata": {
        "id": "jyxaM99oGxxf"
      }
    },
    {
      "cell_type": "code",
      "source": [
        "set1 = {10, 20, 30, 40, 50}\n",
        "set1.difference_update({10, 20, 30})\n",
        "print(set1)"
      ],
      "metadata": {
        "colab": {
          "base_uri": "https://localhost:8080/"
        },
        "id": "vu2txjpTG0NY",
        "outputId": "c5a721bb-fec7-49eb-986a-62f9f1c29e0f"
      },
      "execution_count": null,
      "outputs": [
        {
          "output_type": "stream",
          "name": "stdout",
          "text": [
            "{50, 40}\n"
          ]
        }
      ]
    },
    {
      "cell_type": "markdown",
      "source": [
        "63. Check if two sets have any elements in common. If yes, display the common elements"
      ],
      "metadata": {
        "id": "ot1Zkfd_G3Ef"
      }
    },
    {
      "cell_type": "code",
      "source": [
        "set1 = {10, 20, 30, 40, 50}\n",
        "set2 = {60, 20, 80, 90, 10}\n",
        "\n",
        "if set1.isdisjoint(set2):\n",
        "  print(\"Two sets have no items in common\")\n",
        "else:\n",
        "  print(\"Two sets have items in common\")\n",
        "  print(set1.intersection(set2))"
      ],
      "metadata": {
        "colab": {
          "base_uri": "https://localhost:8080/"
        },
        "id": "Hdppw2LUG7bb",
        "outputId": "0686b4dd-0be2-49ce-b550-ff78cf97007f"
      },
      "execution_count": null,
      "outputs": [
        {
          "output_type": "stream",
          "name": "stdout",
          "text": [
            "Two sets have items in common\n",
            "{10, 20}\n"
          ]
        }
      ]
    },
    {
      "cell_type": "markdown",
      "source": [
        "\n",
        "\n",
        "64. Update set1 by adding items from set2, except common items"
      ],
      "metadata": {
        "id": "3CcdOvfYG-8x"
      }
    },
    {
      "cell_type": "code",
      "source": [
        "set1 = {10, 20, 30, 40, 50}\n",
        "set2 = {30, 40, 50, 60, 70}\n",
        "set1.symmetric_difference_update(set2)\n",
        "print(set1)"
      ],
      "metadata": {
        "colab": {
          "base_uri": "https://localhost:8080/"
        },
        "id": "vp1EXpzlHEsU",
        "outputId": "3bf50bd6-be25-4702-b1e6-d249419ebcd4"
      },
      "execution_count": null,
      "outputs": [
        {
          "output_type": "stream",
          "name": "stdout",
          "text": [
            "{20, 70, 10, 60}\n"
          ]
        }
      ]
    },
    {
      "cell_type": "markdown",
      "source": [
        "\n",
        "65. Remove items from set1 that are not common to both set1 and set2"
      ],
      "metadata": {
        "id": "yJ7UNFAGHIPu"
      }
    },
    {
      "cell_type": "code",
      "source": [
        "set1 = {10, 20, 30, 40, 50}\n",
        "set2 = {30, 40, 50, 60, 70}\n",
        "\n",
        "set1.intersection_update(set2)\n",
        "print(set1)"
      ],
      "metadata": {
        "id": "YSu8BQB2HOus",
        "outputId": "885bcdf7-4f12-4ad2-c4e7-304b6ef4da35",
        "colab": {
          "base_uri": "https://localhost:8080/"
        }
      },
      "execution_count": null,
      "outputs": [
        {
          "output_type": "stream",
          "name": "stdout",
          "text": [
            "{40, 50, 30}\n"
          ]
        }
      ]
    }
  ]
}